{
 "cells": [
  {
   "cell_type": "markdown",
   "id": "edd39762",
   "metadata": {},
   "source": [
    "### Import library"
   ]
  },
  {
   "cell_type": "code",
   "execution_count": 1,
   "id": "930ff855",
   "metadata": {},
   "outputs": [],
   "source": [
    "import pandas as pd\n",
    "import numpy as np\n",
    "import matplotlib.pyplot as plt\n",
    "import seaborn as sns"
   ]
  },
  {
   "cell_type": "markdown",
   "id": "c90aaab3",
   "metadata": {},
   "source": [
    "### Read dataset"
   ]
  },
  {
   "cell_type": "code",
   "execution_count": 2,
   "id": "bed4ee8f",
   "metadata": {
    "scrolled": true
   },
   "outputs": [
    {
     "data": {
      "text/html": [
       "<div>\n",
       "<style scoped>\n",
       "    .dataframe tbody tr th:only-of-type {\n",
       "        vertical-align: middle;\n",
       "    }\n",
       "\n",
       "    .dataframe tbody tr th {\n",
       "        vertical-align: top;\n",
       "    }\n",
       "\n",
       "    .dataframe thead th {\n",
       "        text-align: right;\n",
       "    }\n",
       "</style>\n",
       "<table border=\"1\" class=\"dataframe\">\n",
       "  <thead>\n",
       "    <tr style=\"text-align: right;\">\n",
       "      <th></th>\n",
       "      <th>keyword</th>\n",
       "      <th>location</th>\n",
       "      <th>text</th>\n",
       "      <th>target</th>\n",
       "    </tr>\n",
       "    <tr>\n",
       "      <th>id</th>\n",
       "      <th></th>\n",
       "      <th></th>\n",
       "      <th></th>\n",
       "      <th></th>\n",
       "    </tr>\n",
       "  </thead>\n",
       "  <tbody>\n",
       "    <tr>\n",
       "      <th>1</th>\n",
       "      <td>NaN</td>\n",
       "      <td>NaN</td>\n",
       "      <td>Our Deeds are the Reason of this #earthquake M...</td>\n",
       "      <td>1</td>\n",
       "    </tr>\n",
       "    <tr>\n",
       "      <th>4</th>\n",
       "      <td>NaN</td>\n",
       "      <td>NaN</td>\n",
       "      <td>Forest fire near La Ronge Sask. Canada</td>\n",
       "      <td>1</td>\n",
       "    </tr>\n",
       "    <tr>\n",
       "      <th>5</th>\n",
       "      <td>NaN</td>\n",
       "      <td>NaN</td>\n",
       "      <td>All residents asked to 'shelter in place' are ...</td>\n",
       "      <td>1</td>\n",
       "    </tr>\n",
       "    <tr>\n",
       "      <th>6</th>\n",
       "      <td>NaN</td>\n",
       "      <td>NaN</td>\n",
       "      <td>13,000 people receive #wildfires evacuation or...</td>\n",
       "      <td>1</td>\n",
       "    </tr>\n",
       "    <tr>\n",
       "      <th>7</th>\n",
       "      <td>NaN</td>\n",
       "      <td>NaN</td>\n",
       "      <td>Just got sent this photo from Ruby #Alaska as ...</td>\n",
       "      <td>1</td>\n",
       "    </tr>\n",
       "  </tbody>\n",
       "</table>\n",
       "</div>"
      ],
      "text/plain": [
       "   keyword location                                               text  target\n",
       "id                                                                            \n",
       "1      NaN      NaN  Our Deeds are the Reason of this #earthquake M...       1\n",
       "4      NaN      NaN             Forest fire near La Ronge Sask. Canada       1\n",
       "5      NaN      NaN  All residents asked to 'shelter in place' are ...       1\n",
       "6      NaN      NaN  13,000 people receive #wildfires evacuation or...       1\n",
       "7      NaN      NaN  Just got sent this photo from Ruby #Alaska as ...       1"
      ]
     },
     "execution_count": 2,
     "metadata": {},
     "output_type": "execute_result"
    }
   ],
   "source": [
    "train = pd.read_csv('train.csv', index_col=0)\n",
    "train.head()"
   ]
  },
  {
   "cell_type": "code",
   "execution_count": 3,
   "id": "3e253acd",
   "metadata": {
    "scrolled": true
   },
   "outputs": [
    {
     "name": "stdout",
     "output_type": "stream",
     "text": [
      "(7613, 4)\n"
     ]
    },
    {
     "data": {
      "text/plain": [
       "keyword      0.801261\n",
       "location    33.272035\n",
       "text         0.000000\n",
       "target       0.000000\n",
       "dtype: float64"
      ]
     },
     "execution_count": 3,
     "metadata": {},
     "output_type": "execute_result"
    }
   ],
   "source": [
    "print(train.shape)\n",
    "train.isna().sum()/train.shape[0] *100"
   ]
  },
  {
   "cell_type": "markdown",
   "id": "fe847f5a",
   "metadata": {},
   "source": [
    "There are two columns having missing values, that is `keyword`: 0.8 percent and `location`: 33.3 percent. Two other attribute `text` and `target` are important.\n",
    "- text is the desciption of tweeter comment\n",
    "- target is class of Disaster Tweets: 1 is Disaster and 0 is not."
   ]
  },
  {
   "cell_type": "code",
   "execution_count": 4,
   "id": "0b372a3a",
   "metadata": {
    "scrolled": false
   },
   "outputs": [
    {
     "data": {
      "image/png": "[encoded data removed]",
      "text/plain": [
       "<Figure size 432x288 with 1 Axes>"
      ]
     },
     "metadata": {
      "needs_background": "light"
     },
     "output_type": "display_data"
    }
   ],
   "source": [
    "sns.countplot(data = train, x = 'target')\n",
    "plt.show()"
   ]
  },
  {
   "cell_type": "markdown",
   "id": "35cb977d",
   "metadata": {},
   "source": [
    "`keyword` and `location` are missing attribute. So, we can drop they."
   ]
  },
  {
   "cell_type": "code",
   "execution_count": 5,
   "id": "7bd7e75a",
   "metadata": {
    "scrolled": true
   },
   "outputs": [
    {
     "data": {
      "text/html": [
       "<div>\n",
       "<style scoped>\n",
       "    .dataframe tbody tr th:only-of-type {\n",
       "        vertical-align: middle;\n",
       "    }\n",
       "\n",
       "    .dataframe tbody tr th {\n",
       "        vertical-align: top;\n",
       "    }\n",
       "\n",
       "    .dataframe thead th {\n",
       "        text-align: right;\n",
       "    }\n",
       "</style>\n",
       "<table border=\"1\" class=\"dataframe\">\n",
       "  <thead>\n",
       "    <tr style=\"text-align: right;\">\n",
       "      <th></th>\n",
       "      <th>text</th>\n",
       "      <th>target</th>\n",
       "    </tr>\n",
       "    <tr>\n",
       "      <th>id</th>\n",
       "      <th></th>\n",
       "      <th></th>\n",
       "    </tr>\n",
       "  </thead>\n",
       "  <tbody>\n",
       "    <tr>\n",
       "      <th>1</th>\n",
       "      <td>Our Deeds are the Reason of this #earthquake M...</td>\n",
       "      <td>1</td>\n",
       "    </tr>\n",
       "    <tr>\n",
       "      <th>4</th>\n",
       "      <td>Forest fire near La Ronge Sask. Canada</td>\n",
       "      <td>1</td>\n",
       "    </tr>\n",
       "    <tr>\n",
       "      <th>5</th>\n",
       "      <td>All residents asked to 'shelter in place' are ...</td>\n",
       "      <td>1</td>\n",
       "    </tr>\n",
       "    <tr>\n",
       "      <th>6</th>\n",
       "      <td>13,000 people receive #wildfires evacuation or...</td>\n",
       "      <td>1</td>\n",
       "    </tr>\n",
       "    <tr>\n",
       "      <th>7</th>\n",
       "      <td>Just got sent this photo from Ruby #Alaska as ...</td>\n",
       "      <td>1</td>\n",
       "    </tr>\n",
       "  </tbody>\n",
       "</table>\n",
       "</div>"
      ],
      "text/plain": [
       "                                                 text  target\n",
       "id                                                           \n",
       "1   Our Deeds are the Reason of this #earthquake M...       1\n",
       "4              Forest fire near La Ronge Sask. Canada       1\n",
       "5   All residents asked to 'shelter in place' are ...       1\n",
       "6   13,000 people receive #wildfires evacuation or...       1\n",
       "7   Just got sent this photo from Ruby #Alaska as ...       1"
      ]
     },
     "execution_count": 5,
     "metadata": {},
     "output_type": "execute_result"
    }
   ],
   "source": [
    "train.drop(['keyword','location'], axis = 1, inplace=True)\n",
    "train.head()"
   ]
  },
  {
   "cell_type": "code",
   "execution_count": 6,
   "id": "bbaba082",
   "metadata": {},
   "outputs": [],
   "source": [
    "import re\n",
    "def remove_URL(text):\n",
    "    url = re.compile(r'https?://\\S+|www\\.\\S+')\n",
    "    return url.sub(r'',text)"
   ]
  },
  {
   "cell_type": "markdown",
   "id": "8a8bafda",
   "metadata": {},
   "source": [
    "remove url from a text in tweet."
   ]
  },
  {
   "cell_type": "code",
   "execution_count": 7,
   "id": "cbf4c674",
   "metadata": {
    "scrolled": false
   },
   "outputs": [
    {
     "data": {
      "text/html": [
       "<div>\n",
       "<style scoped>\n",
       "    .dataframe tbody tr th:only-of-type {\n",
       "        vertical-align: middle;\n",
       "    }\n",
       "\n",
       "    .dataframe tbody tr th {\n",
       "        vertical-align: top;\n",
       "    }\n",
       "\n",
       "    .dataframe thead th {\n",
       "        text-align: right;\n",
       "    }\n",
       "</style>\n",
       "<table border=\"1\" class=\"dataframe\">\n",
       "  <thead>\n",
       "    <tr style=\"text-align: right;\">\n",
       "      <th></th>\n",
       "      <th>text</th>\n",
       "      <th>target</th>\n",
       "    </tr>\n",
       "    <tr>\n",
       "      <th>id</th>\n",
       "      <th></th>\n",
       "      <th></th>\n",
       "    </tr>\n",
       "  </thead>\n",
       "  <tbody>\n",
       "    <tr>\n",
       "      <th>1</th>\n",
       "      <td>Our Deeds are the Reason of this #earthquake M...</td>\n",
       "      <td>1</td>\n",
       "    </tr>\n",
       "    <tr>\n",
       "      <th>4</th>\n",
       "      <td>Forest fire near La Ronge Sask. Canada</td>\n",
       "      <td>1</td>\n",
       "    </tr>\n",
       "    <tr>\n",
       "      <th>5</th>\n",
       "      <td>All residents asked to 'shelter in place' are ...</td>\n",
       "      <td>1</td>\n",
       "    </tr>\n",
       "    <tr>\n",
       "      <th>6</th>\n",
       "      <td>13,000 people receive #wildfires evacuation or...</td>\n",
       "      <td>1</td>\n",
       "    </tr>\n",
       "    <tr>\n",
       "      <th>7</th>\n",
       "      <td>Just got sent this photo from Ruby #Alaska as ...</td>\n",
       "      <td>1</td>\n",
       "    </tr>\n",
       "  </tbody>\n",
       "</table>\n",
       "</div>"
      ],
      "text/plain": [
       "                                                 text  target\n",
       "id                                                           \n",
       "1   Our Deeds are the Reason of this #earthquake M...       1\n",
       "4              Forest fire near La Ronge Sask. Canada       1\n",
       "5   All residents asked to 'shelter in place' are ...       1\n",
       "6   13,000 people receive #wildfires evacuation or...       1\n",
       "7   Just got sent this photo from Ruby #Alaska as ...       1"
      ]
     },
     "execution_count": 7,
     "metadata": {},
     "output_type": "execute_result"
    }
   ],
   "source": [
    "train['text'] = train['text'].apply(remove_URL)\n",
    "train.head()"
   ]
  },
  {
   "cell_type": "code",
   "execution_count": 8,
   "id": "dbeeba05",
   "metadata": {},
   "outputs": [],
   "source": [
    "X = train['text'].values\n",
    "y = train['target'].values"
   ]
  },
  {
   "cell_type": "markdown",
   "id": "e593111d",
   "metadata": {},
   "source": [
    "### Preprocessing text before using machine learning to perdict result"
   ]
  },
  {
   "cell_type": "markdown",
   "id": "ff6c9f19",
   "metadata": {},
   "source": [
    "I use sklearn library for this classification problem."
   ]
  },
  {
   "cell_type": "code",
   "execution_count": 9,
   "id": "9c2f9f73",
   "metadata": {},
   "outputs": [],
   "source": [
    "from sklearn.feature_extraction.text import TfidfVectorizer, HashingVectorizer"
   ]
  },
  {
   "cell_type": "code",
   "execution_count": 10,
   "id": "e3bbb009",
   "metadata": {
    "scrolled": true
   },
   "outputs": [
    {
     "data": {
      "text/plain": [
       "(7613, 16760)"
      ]
     },
     "execution_count": 10,
     "metadata": {},
     "output_type": "execute_result"
    }
   ],
   "source": [
    "tfidf_vectorizer = TfidfVectorizer(stop_words='english')\n",
    "tfidf_vectorizer.fit(X)\n",
    "tfidf_df = tfidf_vectorizer.transform(X)\n",
    "tfidf_df.shape"
   ]
  },
  {
   "cell_type": "code",
   "execution_count": 11,
   "id": "14e8adfc",
   "metadata": {},
   "outputs": [
    {
     "data": {
      "text/plain": [
       "array([[0., 0., 0., ..., 0., 0., 0.],\n",
       "       [0., 0., 0., ..., 0., 0., 0.],\n",
       "       [0., 0., 0., ..., 0., 0., 0.],\n",
       "       ...,\n",
       "       [0., 0., 0., ..., 0., 0., 0.],\n",
       "       [0., 0., 0., ..., 0., 0., 0.],\n",
       "       [0., 0., 0., ..., 0., 0., 0.]])"
      ]
     },
     "execution_count": 11,
     "metadata": {},
     "output_type": "execute_result"
    }
   ],
   "source": [
    "tfidf_df.toarray()"
   ]
  },
  {
   "cell_type": "markdown",
   "id": "725cad54",
   "metadata": {},
   "source": [
    "#### Chossing model"
   ]
  },
  {
   "cell_type": "code",
   "execution_count": 18,
   "id": "e5530fa6",
   "metadata": {},
   "outputs": [],
   "source": [
    "from sklearn.ensemble import AdaBoostClassifier, GradientBoostingClassifier,\\\n",
    "                             BaggingClassifier, ExtraTreesClassifier, RandomForestClassifier\n",
    "from xgboost import XGBClassifier\n",
    "from sklearn.tree import DecisionTreeClassifier\n",
    "from sklearn.svm import SVC\n",
    "from sklearn.metrics import accuracy_score, check_scoring, f1_score\n",
    "from sklearn.model_selection import cross_val_score, KFold, GridSearchCV, train_test_split"
   ]
  },
  {
   "cell_type": "code",
   "execution_count": 13,
   "id": "0cad802a",
   "metadata": {},
   "outputs": [],
   "source": [
    "def evaluate(model, name_model, X,y):\n",
    "    scores = cross_val_score(model, X,y, cv=KFold(n_splits=5, shuffle=True), scoring= 'f1')\n",
    "    print('Model: {}\\n'.format(name_model))\n",
    "    print('Mean f1-score : {}\\n\\n'.format(scores.mean()))"
   ]
  },
  {
   "cell_type": "code",
   "execution_count": 14,
   "id": "211535b5",
   "metadata": {},
   "outputs": [
    {
     "name": "stdout",
     "output_type": "stream",
     "text": [
      "Model: RandomForestClassifier\n",
      "\n",
      "Mean f1-score : 0.7167202001298614\n",
      "\n",
      "\n",
      "Model: GradientBoostingClassifier\n",
      "\n",
      "Mean f1-score : 0.5917416955017313\n",
      "\n",
      "\n",
      "Model: BaggingClassifier\n",
      "\n",
      "Mean f1-score : 0.7268779415966427\n",
      "\n",
      "\n",
      "Model: ExtraTreesClassifier\n",
      "\n",
      "Mean f1-score : 0.7365821757799111\n",
      "\n",
      "\n",
      "Model: XGBClassifier\n",
      "\n",
      "Mean f1-score : 0.36973086880454087\n",
      "\n",
      "\n",
      "Model: SVC\n",
      "\n",
      "Mean f1-score : 0.7247161635333201\n",
      "\n",
      "\n"
     ]
    }
   ],
   "source": [
    "models = {\n",
    "    'RandomForestClassifier' : RandomForestClassifier(n_estimators=100),\n",
    "    'GradientBoostingClassifier' : GradientBoostingClassifier(n_estimators=100),\n",
    "    'BaggingClassifier' : BaggingClassifier(n_estimators = 100),\n",
    "    'ExtraTreesClassifier' : ExtraTreesClassifier(n_estimators = 100),\n",
    "    'XGBClassifier' : XGBClassifier(n_estimators = 100, learning_rate = 0.01,\n",
    "                                    eval_metric ='logloss',use_label_encoder =False),\n",
    "    'SVC' : SVC()\n",
    "}\n",
    "for name, model in models.items():\n",
    "    evaluate(model, name, tfidf_df, y)"
   ]
  },
  {
   "cell_type": "markdown",
   "id": "7372c428",
   "metadata": {},
   "source": [
    "### Grid Search with SVC"
   ]
  },
  {
   "cell_type": "code",
   "execution_count": 15,
   "id": "9d610285",
   "metadata": {},
   "outputs": [
    {
     "name": "stdout",
     "output_type": "stream",
     "text": [
      "0.7344978494463794\n",
      "{'C': 10}\n"
     ]
    }
   ],
   "source": [
    "param_grid = {\n",
    "    'C':[0.01, 0.1, 1, 10]\n",
    "}\n",
    "\n",
    "Search = GridSearchCV(SVC(), param_grid, scoring = 'f1', cv = KFold(n_splits = 10, shuffle=True), verbose = 0)\n",
    "\n",
    "Search.fit(tfidf_df, y)\n",
    "print(Search.best_score_)\n",
    "\n",
    "print(Search.best_params_)"
   ]
  },
  {
   "cell_type": "markdown",
   "id": "ce9995ef",
   "metadata": {},
   "source": [
    "### hyperparameters grid search using optuna library"
   ]
  },
  {
   "cell_type": "code",
   "execution_count": 21,
   "id": "30502140",
   "metadata": {
    "collapsed": true
   },
   "outputs": [
    {
     "name": "stdout",
     "output_type": "stream",
     "text": [
      "Collecting optuna\n",
      "  Downloading optuna-2.10.1-py3-none-any.whl (308 kB)\n",
      "Requirement already satisfied: sqlalchemy>=1.1.0 in c:\\users\\truong dang\\anaconda3\\lib\\site-packages (from optuna) (1.4.7)\n",
      "Collecting cmaes>=0.8.2\n",
      "  Downloading cmaes-0.8.2-py3-none-any.whl (15 kB)\n",
      "Requirement already satisfied: numpy in c:\\users\\truong dang\\anaconda3\\lib\\site-packages (from optuna) (1.20.1)\n",
      "Collecting colorlog\n",
      "  Downloading colorlog-6.6.0-py2.py3-none-any.whl (11 kB)\n",
      "Requirement already satisfied: scipy!=1.4.0 in c:\\users\\truong dang\\anaconda3\\lib\\site-packages (from optuna) (1.6.2)\n",
      "Requirement already satisfied: PyYAML in c:\\users\\truong dang\\anaconda3\\lib\\site-packages (from optuna) (5.4.1)\n",
      "Requirement already satisfied: tqdm in c:\\users\\truong dang\\anaconda3\\lib\\site-packages (from optuna) (4.59.0)\n",
      "Collecting alembic\n",
      "  Downloading alembic-1.8.1-py3-none-any.whl (209 kB)\n",
      "Collecting cliff\n",
      "  Downloading cliff-4.0.0-py3-none-any.whl (80 kB)\n",
      "Requirement already satisfied: packaging>=20.0 in c:\\users\\truong dang\\anaconda3\\lib\\site-packages (from optuna) (20.9)\n",
      "Requirement already satisfied: pyparsing>=2.0.2 in c:\\users\\truong dang\\anaconda3\\lib\\site-packages (from packaging>=20.0->optuna) (2.4.7)\n",
      "Requirement already satisfied: greenlet!=0.4.17 in c:\\users\\truong dang\\anaconda3\\lib\\site-packages (from sqlalchemy>=1.1.0->optuna) (1.0.0)\n",
      "Requirement already satisfied: importlib-metadata in c:\\users\\truong dang\\anaconda3\\lib\\site-packages (from alembic->optuna) (3.10.0)\n",
      "Collecting Mako\n",
      "  Downloading Mako-1.2.1-py3-none-any.whl (78 kB)\n",
      "Collecting importlib-resources\n",
      "  Downloading importlib_resources-5.9.0-py3-none-any.whl (33 kB)\n",
      "Collecting importlib-metadata\n",
      "  Downloading importlib_metadata-4.12.0-py3-none-any.whl (21 kB)\n",
      "Collecting PrettyTable>=0.7.2\n",
      "  Downloading prettytable-3.4.0-py3-none-any.whl (27 kB)\n",
      "Collecting stevedore>=2.0.1\n",
      "  Downloading stevedore-4.0.0-py3-none-any.whl (49 kB)\n",
      "Collecting autopage>=0.4.0\n",
      "  Downloading autopage-0.5.1-py3-none-any.whl (29 kB)\n",
      "Collecting cmd2>=1.0.0\n",
      "  Downloading cmd2-2.4.2-py3-none-any.whl (147 kB)\n",
      "Requirement already satisfied: attrs>=16.3.0 in c:\\users\\truong dang\\anaconda3\\lib\\site-packages (from cmd2>=1.0.0->cliff->optuna) (20.3.0)\n",
      "Collecting pyreadline3\n",
      "  Downloading pyreadline3-3.4.1-py3-none-any.whl (95 kB)\n",
      "Requirement already satisfied: wcwidth>=0.1.7 in c:\\users\\truong dang\\anaconda3\\lib\\site-packages (from cmd2>=1.0.0->cliff->optuna) (0.2.5)\n",
      "Collecting pyperclip>=1.6\n",
      "  Downloading pyperclip-1.8.2.tar.gz (20 kB)\n",
      "Requirement already satisfied: zipp>=0.5 in c:\\users\\truong dang\\anaconda3\\lib\\site-packages (from importlib-metadata->alembic->optuna) (3.4.1)\n",
      "Collecting pbr!=2.1.0,>=2.0.0\n",
      "  Downloading pbr-5.10.0-py2.py3-none-any.whl (112 kB)\n",
      "Requirement already satisfied: colorama in c:\\users\\truong dang\\anaconda3\\lib\\site-packages (from colorlog->optuna) (0.4.4)\n",
      "Requirement already satisfied: MarkupSafe>=0.9.2 in c:\\users\\truong dang\\anaconda3\\lib\\site-packages (from Mako->alembic->optuna) (1.1.1)\n",
      "Building wheels for collected packages: pyperclip\n",
      "  Building wheel for pyperclip (setup.py): started\n",
      "  Building wheel for pyperclip (setup.py): finished with status 'done'\n",
      "  Created wheel for pyperclip: filename=pyperclip-1.8.2-py3-none-any.whl size=11107 sha256=91fd7acc090e31fa7d499c42cb50ca2ecd004132b1abda283d476661cd0bfe0a\n",
      "  Stored in directory: c:\\users\\truong dang\\appdata\\local\\pip\\cache\\wheels\\7f\\1a\\65\\84ff8c386bec21fca6d220ea1f5498a0367883a78dd5ba6122\n",
      "Successfully built pyperclip\n",
      "Installing collected packages: pyreadline3, pyperclip, pbr, stevedore, PrettyTable, Mako, importlib-resources, importlib-metadata, cmd2, autopage, colorlog, cmaes, cliff, alembic, optuna\n",
      "  Attempting uninstall: importlib-metadata\n",
      "    Found existing installation: importlib-metadata 3.10.0\n",
      "    Uninstalling importlib-metadata-3.10.0:\n",
      "      Successfully uninstalled importlib-metadata-3.10.0\n",
      "Successfully installed Mako-1.2.1 PrettyTable-3.4.0 alembic-1.8.1 autopage-0.5.1 cliff-4.0.0 cmaes-0.8.2 cmd2-2.4.2 colorlog-6.6.0 importlib-metadata-4.12.0 importlib-resources-5.9.0 optuna-2.10.1 pbr-5.10.0 pyperclip-1.8.2 pyreadline3-3.4.1 stevedore-4.0.0\n"
     ]
    }
   ],
   "source": [
    "!pip install optuna"
   ]
  },
  {
   "cell_type": "code",
   "execution_count": 22,
   "id": "6fa124bf",
   "metadata": {},
   "outputs": [],
   "source": [
    "import optuna"
   ]
  },
  {
   "cell_type": "code",
   "execution_count": 40,
   "id": "6f264c1e",
   "metadata": {},
   "outputs": [],
   "source": [
    "def objective(trial):\n",
    "    X_train, X_valid, y_train, y_valid =  train_test_split(tfidf_df, y, test_size= 0.2, shuffle= True, random_state= 42)\n",
    "    params = {\n",
    "        'n_estimators': trial.suggest_int('n_estimators', 100, 1000, 100),\n",
    "        'min_samples_split': trial.suggest_int('min_samples_split', 2, 9)\n",
    "    }\n",
    "    model = ExtraTreesClassifier(**params)\n",
    "    model.fit(X_train, y_train)\n",
    "    y_preds = model.predict(X_valid)\n",
    "    f1 = f1_score(y_valid, y_preds)\n",
    "    \n",
    "    return f1"
   ]
  },
  {
   "cell_type": "code",
   "execution_count": 42,
   "id": "8f8011fb",
   "metadata": {
    "scrolled": false
   },
   "outputs": [
    {
     "name": "stderr",
     "output_type": "stream",
     "text": [
      "\u001b[32m[I 2022-08-28 19:51:00,946]\u001b[0m A new study created in memory with name: no-name-1e2dddf3-4174-40ec-8710-65a0279c0bb3\u001b[0m\n",
      "\u001b[32m[I 2022-08-28 19:53:14,319]\u001b[0m Trial 0 finished with value: 0.7242524916943522 and parameters: {'n_estimators': 400, 'min_samples_split': 7}. Best is trial 0 with value: 0.7242524916943522.\u001b[0m\n",
      "\u001b[32m[I 2022-08-28 19:58:49,303]\u001b[0m Trial 1 finished with value: 0.7305785123966942 and parameters: {'n_estimators': 1000, 'min_samples_split': 8}. Best is trial 1 with value: 0.7305785123966942.\u001b[0m\n",
      "\u001b[32m[I 2022-08-28 20:01:18,373]\u001b[0m Trial 2 finished with value: 0.7197986577181209 and parameters: {'n_estimators': 300, 'min_samples_split': 2}. Best is trial 1 with value: 0.7305785123966942.\u001b[0m\n",
      "\u001b[32m[I 2022-08-28 20:07:15,245]\u001b[0m Trial 3 finished with value: 0.7210657785179019 and parameters: {'n_estimators': 900, 'min_samples_split': 5}. Best is trial 1 with value: 0.7305785123966942.\u001b[0m\n",
      "\u001b[32m[I 2022-08-28 20:10:56,715]\u001b[0m Trial 4 finished with value: 0.7167919799498748 and parameters: {'n_estimators': 600, 'min_samples_split': 4}. Best is trial 1 with value: 0.7305785123966942.\u001b[0m\n",
      "\u001b[32m[I 2022-08-28 20:16:29,297]\u001b[0m Trial 5 finished with value: 0.7179916317991633 and parameters: {'n_estimators': 900, 'min_samples_split': 4}. Best is trial 1 with value: 0.7305785123966942.\u001b[0m\n",
      "\u001b[32m[I 2022-08-28 20:19:54,332]\u001b[0m Trial 6 finished with value: 0.7172643869891577 and parameters: {'n_estimators': 600, 'min_samples_split': 6}. Best is trial 1 with value: 0.7305785123966942.\u001b[0m\n",
      "\u001b[32m[I 2022-08-28 20:25:25,106]\u001b[0m Trial 7 finished with value: 0.7248545303408147 and parameters: {'n_estimators': 1000, 'min_samples_split': 7}. Best is trial 1 with value: 0.7305785123966942.\u001b[0m\n",
      "\u001b[32m[I 2022-08-28 21:23:58,822]\u001b[0m Trial 8 finished with value: 0.7127211457455771 and parameters: {'n_estimators': 800, 'min_samples_split': 3}. Best is trial 1 with value: 0.7305785123966942.\u001b[0m\n",
      "\u001b[32m[I 2022-08-28 21:26:01,397]\u001b[0m Trial 9 finished with value: 0.7231920199501248 and parameters: {'n_estimators': 300, 'min_samples_split': 4}. Best is trial 1 with value: 0.7305785123966942.\u001b[0m\n",
      "\u001b[32m[I 2022-08-28 21:30:06,354]\u001b[0m Trial 10 finished with value: 0.725311203319502 and parameters: {'n_estimators': 700, 'min_samples_split': 9}. Best is trial 1 with value: 0.7305785123966942.\u001b[0m\n",
      "\u001b[32m[I 2022-08-28 21:34:11,079]\u001b[0m Trial 11 finished with value: 0.7281795511221945 and parameters: {'n_estimators': 700, 'min_samples_split': 9}. Best is trial 1 with value: 0.7305785123966942.\u001b[0m\n",
      "\u001b[32m[I 2022-08-28 21:39:53,716]\u001b[0m Trial 12 finished with value: 0.725311203319502 and parameters: {'n_estimators': 1000, 'min_samples_split': 9}. Best is trial 1 with value: 0.7305785123966942.\u001b[0m\n",
      "\u001b[32m[I 2022-08-28 21:42:44,600]\u001b[0m Trial 13 finished with value: 0.7290803645401823 and parameters: {'n_estimators': 500, 'min_samples_split': 8}. Best is trial 1 with value: 0.7305785123966942.\u001b[0m\n",
      "\u001b[32m[I 2022-08-28 21:43:21,739]\u001b[0m Trial 14 finished with value: 0.7259136212624585 and parameters: {'n_estimators': 100, 'min_samples_split': 7}. Best is trial 1 with value: 0.7305785123966942.\u001b[0m\n",
      "\u001b[32m[I 2022-08-28 21:45:40,426]\u001b[0m Trial 15 finished with value: 0.7254575707154742 and parameters: {'n_estimators': 400, 'min_samples_split': 8}. Best is trial 1 with value: 0.7305785123966942.\u001b[0m\n",
      "\u001b[32m[I 2022-08-28 21:48:29,868]\u001b[0m Trial 16 finished with value: 0.7242524916943522 and parameters: {'n_estimators': 500, 'min_samples_split': 8}. Best is trial 1 with value: 0.7305785123966942.\u001b[0m\n",
      "\u001b[32m[I 2022-08-28 21:49:05,093]\u001b[0m Trial 17 finished with value: 0.7195325542570951 and parameters: {'n_estimators': 100, 'min_samples_split': 6}. Best is trial 1 with value: 0.7305785123966942.\u001b[0m\n",
      "\u001b[32m[I 2022-08-28 21:51:58,968]\u001b[0m Trial 18 finished with value: 0.7280265339966833 and parameters: {'n_estimators': 500, 'min_samples_split': 8}. Best is trial 1 with value: 0.7305785123966942.\u001b[0m\n",
      "\u001b[32m[I 2022-08-28 21:56:02,098]\u001b[0m Trial 19 finished with value: 0.7246861924686192 and parameters: {'n_estimators': 700, 'min_samples_split': 8}. Best is trial 1 with value: 0.7305785123966942.\u001b[0m\n"
     ]
    }
   ],
   "source": [
    "study = optuna.create_study(direction='maximize')\n",
    "study.optimize(objective, n_trials = 20)"
   ]
  },
  {
   "cell_type": "code",
   "execution_count": 43,
   "id": "aeebadba",
   "metadata": {},
   "outputs": [
    {
     "data": {
      "text/plain": [
       "{'n_estimators': 1000, 'min_samples_split': 8}"
      ]
     },
     "execution_count": 43,
     "metadata": {},
     "output_type": "execute_result"
    }
   ],
   "source": [
    "study.best_params"
   ]
  },
  {
   "cell_type": "code",
   "execution_count": 44,
   "id": "053c7f8d",
   "metadata": {},
   "outputs": [],
   "source": [
    "model = ExtraTreesClassifier(**study.best_params)"
   ]
  },
  {
   "cell_type": "code",
   "execution_count": 53,
   "id": "fc65335d",
   "metadata": {},
   "outputs": [
    {
     "data": {
      "text/plain": [
       "ExtraTreesClassifier(min_samples_split=8, n_estimators=1000)"
      ]
     },
     "execution_count": 53,
     "metadata": {},
     "output_type": "execute_result"
    }
   ],
   "source": [
    "model.fit(tfidf_df, y)"
   ]
  },
  {
   "cell_type": "markdown",
   "id": "0084e473",
   "metadata": {},
   "source": [
    "## Predict test dataset"
   ]
  },
  {
   "cell_type": "code",
   "execution_count": 47,
   "id": "f9910a0b",
   "metadata": {},
   "outputs": [],
   "source": [
    "test = pd.read_csv('test.csv')\n",
    "X_test = test['text'].apply(remove_URL).values"
   ]
  },
  {
   "cell_type": "code",
   "execution_count": 50,
   "id": "7077ec59",
   "metadata": {},
   "outputs": [
    {
     "data": {
      "text/plain": [
       "(3263, 16760)"
      ]
     },
     "execution_count": 50,
     "metadata": {},
     "output_type": "execute_result"
    }
   ],
   "source": [
    "# tranform test with tfidf_vectorizer \n",
    "X_test = tfidf_vectorizer.transform(X_test)\n",
    "X_test.shape"
   ]
  },
  {
   "cell_type": "code",
   "execution_count": 54,
   "id": "d59ba4d8",
   "metadata": {},
   "outputs": [],
   "source": [
    "preds = model.predict(X_test)"
   ]
  },
  {
   "cell_type": "code",
   "execution_count": 55,
   "id": "3faa0aa0",
   "metadata": {},
   "outputs": [
    {
     "data": {
      "text/plain": [
       "array([0, 1, 1, ..., 1, 1, 0], dtype=int64)"
      ]
     },
     "execution_count": 55,
     "metadata": {},
     "output_type": "execute_result"
    }
   ],
   "source": [
    "preds"
   ]
  }
 ],
 "metadata": {
  "kernelspec": {
   "display_name": "Python 3",
   "language": "python",
   "name": "python3"
  },
  "language_info": {
   "codemirror_mode": {
    "name": "ipython",
    "version": 3
   },
   "file_extension": ".py",
   "mimetype": "text/x-python",
   "name": "python",
   "nbconvert_exporter": "python",
   "pygments_lexer": "ipython3",
   "version": "3.8.8"
  }
 },
 "nbformat": 4,
 "nbformat_minor": 5
}
